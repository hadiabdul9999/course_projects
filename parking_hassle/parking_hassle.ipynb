{
 "cells": [
  {
   "cell_type": "markdown",
   "id": "264dce70",
   "metadata": {},
   "source": [
    "## Import Libraries"
   ]
  },
  {
   "cell_type": "code",
   "execution_count": 2,
   "id": "4d18854a",
   "metadata": {},
   "outputs": [],
   "source": [
    "# inbuilt libraries\n",
    "import cv2\n",
    "import os\n",
    "import pandas as pd\n",
    "import numpy as np\n",
    "import random\n",
    "import matplotlib.pyplot as plt"
   ]
  },
  {
   "cell_type": "code",
   "execution_count": 3,
   "id": "742bfe39",
   "metadata": {},
   "outputs": [],
   "source": [
    "# external libraries\n",
    "import tensorflow as tf\n",
    "from tensorflow.keras.models import Sequential\n",
    "from tensorflow.keras.layers import Conv2D, MaxPooling2D, Flatten, Dense, Dropout\n",
    "from tensorflow.keras.preprocessing.image import ImageDataGenerator"
   ]
  },
  {
   "cell_type": "markdown",
   "id": "63b89cac",
   "metadata": {},
   "source": [
    "## Data Analysis"
   ]
  },
  {
   "cell_type": "code",
   "execution_count": 4,
   "id": "1ee8c4f4",
   "metadata": {},
   "outputs": [
    {
     "data": {
      "image/png": "[encoded data removed]",
      "text/plain": [
       "<Figure size 640x480 with 1 Axes>"
      ]
     },
     "metadata": {},
     "output_type": "display_data"
    }
   ],
   "source": [
    "annotations = pd.read_csv('train/_annotations.csv')\n",
    "counts = annotations['class'].value_counts()\n",
    "plt.bar(counts.index, counts.values)\n",
    "plt.title('Class Distribution')\n",
    "plt.xlabel('Class')\n",
    "plt.ylabel('Count')\n",
    "plt.show()"
   ]
  },
  {
   "cell_type": "markdown",
   "id": "a82e6d6d",
   "metadata": {},
   "source": [
    "The distribution of the dataset between the space-empty and space-occupied classes is normal. It is not skewed to one class which helps the models learning and decreases the chances of overfitting. Overfitting is the concept of a model learning on a specific class more than others cause the frequency of the class is significantly higher than other class."
   ]
  },
  {
   "cell_type": "code",
   "execution_count": 5,
   "id": "ad582d5d",
   "metadata": {},
   "outputs": [
    {
     "name": "stdout",
     "output_type": "stream",
     "text": [
      "<class 'pandas.core.frame.DataFrame'>\n",
      "RangeIndex: 497856 entries, 0 to 497855\n",
      "Data columns (total 8 columns):\n",
      " #   Column    Non-Null Count   Dtype \n",
      "---  ------    --------------   ----- \n",
      " 0   filename  497856 non-null  object\n",
      " 1   width     497856 non-null  int64 \n",
      " 2   height    497856 non-null  int64 \n",
      " 3   class     497856 non-null  object\n",
      " 4   xmin      497856 non-null  int64 \n",
      " 5   ymin      497856 non-null  int64 \n",
      " 6   xmax      497856 non-null  int64 \n",
      " 7   ymax      497856 non-null  int64 \n",
      "dtypes: int64(6), object(2)\n",
      "memory usage: 30.4+ MB\n"
     ]
    }
   ],
   "source": [
    "annotations.info()"
   ]
  },
  {
   "cell_type": "markdown",
   "id": "4016f37c",
   "metadata": {},
   "source": [
    "The info method shows the metrics of the dataframe. The dataset has 497856 rows and 8 columns. The following are the columns available:\n",
    "* filename - name of the file\n",
    "* width - width of the image file pixels\n",
    "* height - height of the image file pixels\n",
    "* class - class that the file belongs to\n",
    "* xmin - bounding box x1 coordinate\n",
    "* ymin - bounding box y1 coordinate\n",
    "* xmax - bounding box x2 coordinate\n",
    "* ymax - bounding box y2 coordinate\n",
    "\n",
    "The filename and class columns are the ones which have values of type object. All other columns have integer values"
   ]
  },
  {
   "cell_type": "markdown",
   "id": "19a08067",
   "metadata": {},
   "source": [
    "## Preprocessing"
   ]
  },
  {
   "cell_type": "code",
   "execution_count": 9,
   "id": "c65a05f9",
   "metadata": {},
   "outputs": [],
   "source": [
    "# Set the path to the PKLot dataset directory\n",
    "\n",
    "data_dir = \"\"\n",
    "# Set the path to the directory where you want to save the preprocessed images\n",
    "preprocessed_dir = 'preprocessed/'\n",
    "\n",
    "# Create the directory if it doesn't exist\n",
    "if not os.path.exists(preprocessed_dir):\n",
    "    os.makedirs(preprocessed_dir)\n",
    "\n",
    "# Set the desired image size\n",
    "img_size = (224, 224)\n",
    "\n",
    "# Loop through each image in the train, valid, and test folders\n",
    "for folder in ['train', 'valid', 'test']:\n",
    "    if not os.path.exists(preprocessed_dir+folder+\"/\"):\n",
    "        os.makedirs(preprocessed_dir+folder+\"/\")\n",
    "    folder_path = os.path.join(data_dir, folder)\n",
    "    annotations_path = os.path.join(folder_path, '_annotations.csv')\n",
    "    annotations_df = pd.read_csv(annotations_path)\n",
    "\n",
    "    for index, row in annotations_df.iterrows():\n",
    "        # Load the image\n",
    "        img_path = os.path.join(folder_path, row['filename'])\n",
    "        img = cv2.imread(img_path)\n",
    "\n",
    "        # Extract the bounding box coordinates\n",
    "        xmin = row['xmin']\n",
    "        ymin = row['ymin']\n",
    "        xmax = row['xmax']\n",
    "        ymax = row['ymax']\n",
    "\n",
    "        # Crop the image to the bounding box\n",
    "        cropped_img = img[ymin:ymax, xmin:xmax]\n",
    "\n",
    "        # Resize the image\n",
    "        resized_img = cv2.resize(cropped_img, img_size)\n",
    "\n",
    "        # Convert the image to grayscale\n",
    "        gray_img = cv2.cvtColor(resized_img, cv2.COLOR_BGR2GRAY)\n",
    "\n",
    "        # Save the preprocessed image to the preprocessed directory\n",
    "        if not os.path.exists(os.path.join(preprocessed_dir,folder,row['class'])):\n",
    "            os.makedirs(os.path.join(preprocessed_dir,folder,row['class']))\n",
    "        preprocessed_img_path = os.path.join(preprocessed_dir,folder,row['class'], row['filename'])\n",
    "        cv2.imwrite(preprocessed_img_path, gray_img)"
   ]
  },
  {
   "cell_type": "markdown",
   "id": "79003453",
   "metadata": {},
   "source": [
    "The preprocess function is used to take each image from all three folders train, valid and test. After reading the images, the files are cropped to center the parking space so the image processing model can process the parking space only and ignore the objects and pixels besides it. The files are then converted to greyscale and stored into the following folder format:\n",
    "\n",
    "* train --\n",
    "    * space-empty -- images\n",
    "    * space-occupied -- images\n",
    "\n",
    "* valid --\n",
    "    * space-empty -- images\n",
    "    * space-occupied -- images\n",
    "\n",
    "* test --\n",
    "    * space-empty -- images\n",
    "    * space-occupied -- images"
   ]
  },
  {
   "cell_type": "markdown",
   "id": "9c0614be",
   "metadata": {},
   "source": [
    "## Modeling"
   ]
  },
  {
   "cell_type": "code",
   "execution_count": 17,
   "id": "39b86639",
   "metadata": {},
   "outputs": [
    {
     "name": "stdout",
     "output_type": "stream",
     "text": [
      "Found 14125 images belonging to 2 classes.\n",
      "Found 4029 images belonging to 2 classes.\n",
      "Found 2032 images belonging to 2 classes.\n",
      "Epoch 1/10\n",
      "442/442 [==============================] - 490s 1s/step - loss: 0.1828 - accuracy: 0.9267 - val_loss: 0.0670 - val_accuracy: 0.9779\n",
      "Epoch 2/10\n",
      "442/442 [==============================] - 456s 1s/step - loss: 0.0720 - accuracy: 0.9769 - val_loss: 0.0493 - val_accuracy: 0.9831\n",
      "Epoch 3/10\n",
      "442/442 [==============================] - 481s 1s/step - loss: 0.0525 - accuracy: 0.9832 - val_loss: 0.0400 - val_accuracy: 0.9859\n",
      "Epoch 4/10\n",
      "442/442 [==============================] - 581s 1s/step - loss: 0.0388 - accuracy: 0.9879 - val_loss: 0.0257 - val_accuracy: 0.9921\n",
      "Epoch 5/10\n",
      "442/442 [==============================] - 547s 1s/step - loss: 0.0362 - accuracy: 0.9887 - val_loss: 0.0281 - val_accuracy: 0.9906\n",
      "Epoch 6/10\n",
      "442/442 [==============================] - 530s 1s/step - loss: 0.0244 - accuracy: 0.9934 - val_loss: 0.0238 - val_accuracy: 0.9933\n",
      "Epoch 7/10\n",
      "442/442 [==============================] - 582s 1s/step - loss: 0.0202 - accuracy: 0.9941 - val_loss: 0.0442 - val_accuracy: 0.9876\n",
      "Epoch 8/10\n",
      "442/442 [==============================] - 514s 1s/step - loss: 0.0228 - accuracy: 0.9930 - val_loss: 0.0276 - val_accuracy: 0.9928\n",
      "Epoch 9/10\n",
      "442/442 [==============================] - 507s 1s/step - loss: 0.0178 - accuracy: 0.9942 - val_loss: 0.0273 - val_accuracy: 0.9948\n",
      "Epoch 10/10\n",
      "442/442 [==============================] - 533s 1s/step - loss: 0.0168 - accuracy: 0.9953 - val_loss: 0.0247 - val_accuracy: 0.9935\n",
      "64/64 [==============================] - 29s 463ms/step - loss: 0.0470 - accuracy: 0.9892\n",
      "Test accuracy: 0.9891732335090637\n"
     ]
    }
   ],
   "source": [
    "train_datagen = ImageDataGenerator(rescale=1./255)\n",
    "train_generator = train_datagen.flow_from_directory(\n",
    "    'preprocessed/train',\n",
    "    target_size=(224, 224),\n",
    "    batch_size=32,\n",
    "    classes=['space-empty', 'space-occupied'],\n",
    "    class_mode='binary'\n",
    ")\n",
    "\n",
    "valid_datagen = ImageDataGenerator(rescale=1./255)\n",
    "valid_generator = valid_datagen.flow_from_directory(\n",
    "    'preprocessed/valid',\n",
    "    target_size=(224, 224),\n",
    "    batch_size=32,\n",
    "    classes=['space-empty', 'space-occupied'],\n",
    "    class_mode='binary'\n",
    ")\n",
    "\n",
    "test_datagen = ImageDataGenerator(rescale=1./255)\n",
    "test_generator = test_datagen.flow_from_directory(\n",
    "    'preprocessed/test',\n",
    "    target_size=(224, 224),\n",
    "    batch_size=32,\n",
    "    classes=['space-empty', 'space-occupied'],\n",
    "    class_mode='binary'\n",
    ")\n",
    "\n",
    "# Define the convolutional neural network architecture\n",
    "model = tf.keras.models.Sequential([\n",
    "    tf.keras.layers.Conv2D(32, (3,3), activation='relu', input_shape=(224, 224, 3)),\n",
    "    tf.keras.layers.MaxPooling2D(2, 2),\n",
    "    tf.keras.layers.Conv2D(32, (3,3), activation='relu'),\n",
    "    tf.keras.layers.MaxPooling2D(2, 2),\n",
    "    tf.keras.layers.Conv2D(64, (3,3), activation='relu'),\n",
    "    tf.keras.layers.MaxPooling2D(2, 2),\n",
    "    tf.keras.layers.Flatten(),\n",
    "    tf.keras.layers.Dense(128, activation='relu'),\n",
    "    tf.keras.layers.Dropout(0.5),\n",
    "    tf.keras.layers.Dense(1, activation='sigmoid')\n",
    "])\n",
    "\n",
    "# Compile the model\n",
    "model.compile(loss='binary_crossentropy',\n",
    "              optimizer=tf.keras.optimizers.Adam(),\n",
    "              metrics=['accuracy'])\n",
    "\n",
    "# Train the model\n",
    "model.fit(\n",
    "    train_generator,\n",
    "    validation_data=valid_generator,\n",
    "    epochs=10\n",
    ")\n",
    "\n",
    "# Evaluate the model on the test set\n",
    "test_loss, test_acc = model.evaluate(test_generator)\n",
    "print('Test accuracy:', test_acc)"
   ]
  },
  {
   "cell_type": "markdown",
   "id": "68a63b07",
   "metadata": {},
   "source": [
    "Finally, the files are read from the specific folders using ImageGenerators. A Convolutional 2D model is created to process the image files. The following are the layers in the Convolutional 2D model:\n",
    "* Conv2D layer - relu - 32\n",
    "* Maxpool layer\n",
    "* Conv2D layer - relu - 32\n",
    "* Maxpool layer\n",
    "* Conv2D layer - relu - 64\n",
    "* Maxpool layer\n",
    "* Flatten layer\n",
    "* Dense layer - Relu - 128\n",
    "* Dropout layer\n",
    "* Dense layer - Sigmoid"
   ]
  },
  {
   "cell_type": "markdown",
   "id": "8a007cc6",
   "metadata": {},
   "source": [
    "The loss function used is binary-crossentropy and the metric accuracy is calculated across 10 epochs. The acquired loss at the end of the model fitting is 4% and the accuracy of the model is 98.9%"
   ]
  },
  {
   "cell_type": "code",
   "execution_count": null,
   "id": "652e66c1",
   "metadata": {},
   "outputs": [],
   "source": []
  }
 ],
 "metadata": {
  "kernelspec": {
   "display_name": "Python 3 (ipykernel)",
   "language": "python",
   "name": "python3"
  },
  "language_info": {
   "codemirror_mode": {
    "name": "ipython",
    "version": 3
   },
   "file_extension": ".py",
   "mimetype": "text/x-python",
   "name": "python",
   "nbconvert_exporter": "python",
   "pygments_lexer": "ipython3",
   "version": "3.11.2"
  }
 },
 "nbformat": 4,
 "nbformat_minor": 5
}
